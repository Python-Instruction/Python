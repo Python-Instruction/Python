{
 "cells": [
  {
   "cell_type": "markdown",
   "metadata": {},
   "source": [
    "# Exercise"
   ]
  },
  {
   "cell_type": "markdown",
   "metadata": {},
   "source": [
    "1. Python program to find sum and average of two numbers."
   ]
  },
  {
   "cell_type": "code",
   "execution_count": 4,
   "metadata": {},
   "outputs": [
    {
     "name": "stdout",
     "output_type": "stream",
     "text": [
      "Sum of two numbers :  8\n",
      "Average :  4.0\n"
     ]
    }
   ],
   "source": [
    "num1=3\n",
    "num2=5\n",
    "\n",
    "#Addition\n",
    "result=num1+num2\n",
    "print(\"Sum of two numbers : \",result)\n",
    "\n",
    "#Average\n",
    "avg=result/2\n",
    "print(\"Average : \",avg)"
   ]
  },
  {
   "cell_type": "markdown",
   "metadata": {},
   "source": [
    "2. Python program to calculate simple interest.\n",
    "\n",
    "    \\begin{equation*} Simple  Interest formula = (Principal * Rate * time)/100 \\end{equation*}\n",
    "    \\begin{equation*}= (p * r * t)/100 \\end{equation*}"
   ]
  },
  {
   "cell_type": "code",
   "execution_count": 3,
   "metadata": {},
   "outputs": [
    {
     "name": "stdout",
     "output_type": "stream",
     "text": [
      "Simple Interest :  100.0\n"
     ]
    }
   ],
   "source": [
    "p = 1000\n",
    "r = 5\n",
    "t = 2\n",
    "result = (p * r * t)/100\n",
    "print(\"Simple Interest : \", result)"
   ]
  },
  {
   "cell_type": "markdown",
   "metadata": {},
   "source": [
    "3. Python program to find quotient and remainder.\n",
    "<br><br><br>\n",
    "\n",
    "    **Quotient**: The result obtained from the division process is known as a quotient. eg 5/2 here quotient is = 2 \n",
    "    \n",
    "    **Remainder**: The number left over after division process is known as the remainder. eg 5/2 here quotient is = 1"
   ]
  },
  {
   "cell_type": "code",
   "execution_count": 10,
   "metadata": {},
   "outputs": [
    {
     "name": "stdout",
     "output_type": "stream",
     "text": [
      "Quotient : 2\n",
      "Remainder : 1\n"
     ]
    }
   ],
   "source": [
    "num1 = 5\n",
    "num2 = 2\n",
    "\n",
    "#Quotient\n",
    "quo = num1//num2\n",
    "print(\"Quotient :\",quo)\n",
    "\n",
    "#Remainder\n",
    "rem = num1 % num2\n",
    "print(\"Remainder :\", rem)"
   ]
  },
  {
   "cell_type": "markdown",
   "metadata": {},
   "source": [
    "4. Python program to find largest number among three numbers."
   ]
  },
  {
   "cell_type": "code",
   "execution_count": 12,
   "metadata": {},
   "outputs": [
    {
     "name": "stdout",
     "output_type": "stream",
     "text": [
      "The largest number is 7\n"
     ]
    }
   ],
   "source": [
    "num1 = 5\n",
    "num2 = 2\n",
    "num3 = 7\n",
    " \n",
    "if (num1 > num2) and (num1 > num3):\n",
    "    largest = num1\n",
    "elif (num2 > num1) and (num2 > num3):\n",
    "    largest = num2\n",
    "else:\n",
    "    largest = num3\n",
    "print(\"The largest number is\",largest)"
   ]
  },
  {
   "cell_type": "markdown",
   "metadata": {},
   "source": [
    "5. Python program to find area and perimeter of circle\n",
    "<br><br>\n",
    "    \n",
    "    \\begin{equation*}Area = πd^2/4 = πr^2  \\end{equation*}\n",
    "        \n",
    "    \\begin{equation*} Perimeter = 2πr = dr\\end{equation*}\n",
    "\t\n",
    "  Where r = radius , d = diameter and π = 3.14"
   ]
  },
  {
   "cell_type": "code",
   "execution_count": 13,
   "metadata": {},
   "outputs": [
    {
     "name": "stdout",
     "output_type": "stream",
     "text": [
      "Area of Circle:  78.5\n",
      "Perimeter of Circle:  31.400000000000002\n"
     ]
    }
   ],
   "source": [
    "r = 5\n",
    "pi = 3.14\n",
    "\n",
    "#Area of circle\n",
    "area=3.14*r*r\n",
    "print(\"Area of Circle: \",area)\n",
    "\n",
    "#Perimeter of circle\n",
    "perimeter=2*3.14*r\n",
    "print(\"Perimeter of Circle: \",perimeter)"
   ]
  },
  {
   "cell_type": "markdown",
   "metadata": {},
   "source": [
    "6. Python program to find area of a rectangle.\n",
    "\n",
    " \\begin{equation*}Area = w × h. \\end{equation*}\n",
    " \n",
    " Where, w = width h = height."
   ]
  },
  {
   "cell_type": "code",
   "execution_count": 14,
   "metadata": {},
   "outputs": [
    {
     "name": "stdout",
     "output_type": "stream",
     "text": [
      "Area of Rectangle : 60\n"
     ]
    }
   ],
   "source": [
    "w = 15\n",
    "h = 4\n",
    "result = w * h\n",
    "print(\"Area of Rectangle :\",result)"
   ]
  },
  {
   "cell_type": "markdown",
   "metadata": {},
   "source": [
    "7. Python program to calculate HCF of two numbers."
   ]
  },
  {
   "cell_type": "code",
   "execution_count": 29,
   "metadata": {},
   "outputs": [
    {
     "name": "stdout",
     "output_type": "stream",
     "text": [
      " H.C.F. is :  5\n"
     ]
    }
   ],
   "source": [
    "num1 = 10\n",
    "num2 = 5\n",
    "\n",
    "if num1 > num2:  \n",
    "    smaller = num2  \n",
    "else:  \n",
    "    smaller = num1\n",
    "for i in range(1,smaller + 1):  \n",
    "    if((num1 % i == 0) and (num2 % i == 0)):  \n",
    "        hcf = i   \n",
    "print(\" H.C.F. is : \", hcf) \n",
    " "
   ]
  },
  {
   "cell_type": "markdown",
   "metadata": {},
   "source": [
    "8. Python program to print all VOWEL and CONSONANT characters separately"
   ]
  },
  {
   "cell_type": "code",
   "execution_count": 33,
   "metadata": {},
   "outputs": [
    {
     "name": "stdout",
     "output_type": "stream",
     "text": [
      "Vowel :  ['o', 'a', 'o', 'u', 'i']\n",
      "Consonant :  ['z', 'r', 'b', 'c', 'n', 's', 'l', 't', 'n', 'g']\n"
     ]
    }
   ],
   "source": [
    "str = \"zorba consulting\";  \n",
    "   \n",
    "#Converting entire string to lower case to reduce the comparisons\n",
    "vwl=[]\n",
    "cont=[]\n",
    "str = str.lower();  \n",
    "for i in range(0,len(str)):   \n",
    "    #Checks whether a character is a vowel  \n",
    "    if str[i] in ('a',\"e\",\"i\",\"o\",\"u\"):  \n",
    "        vwl.append(str[i]) \n",
    "    elif (str[i] >= 'a' and str[i] <= 'z'):  \n",
    "        cont.append(str[i])\n",
    "print('Vowel : ',vwl)\n",
    "print(\"Consonant : \",cont)"
   ]
  },
  {
   "cell_type": "markdown",
   "metadata": {},
   "source": [
    "9. Python program to count upper case, lower case and special characters in a string."
   ]
  },
  {
   "cell_type": "code",
   "execution_count": 30,
   "metadata": {},
   "outputs": [
    {
     "name": "stdout",
     "output_type": "stream",
     "text": [
      "Upper case letters: 2\n",
      "Lower case letters: 13\n",
      "Special characters: 2\n"
     ]
    }
   ],
   "source": [
    "# Count uppercase, lowercase and special characters  \n",
    "\n",
    "str = \"ZorbaConsulting@#\"\n",
    "upper, lower,  special = 0, 0, 0\n",
    "\n",
    "for i in range(len(str)): \n",
    "    if str[i].isupper(): # Using build-in function\n",
    "        upper += 1\n",
    "    elif str[i].islower(): # using build-in Function \n",
    "        lower += 1\n",
    "    else: \n",
    "        special += 1\n",
    "\n",
    "print('Upper case letters:', upper) \n",
    "print('Lower case letters:', lower) \n",
    "print('Special characters:', special) \n",
    "  "
   ]
  },
  {
   "cell_type": "markdown",
   "metadata": {},
   "source": [
    "10. Python program to reverse a number(Example 12345 to 54321)"
   ]
  },
  {
   "cell_type": "code",
   "execution_count": 41,
   "metadata": {},
   "outputs": [
    {
     "name": "stdout",
     "output_type": "stream",
     "text": [
      "Reverse number is:  987654321\n"
     ]
    }
   ],
   "source": [
    "num = 123456789\n",
    "reverse_num = 0\n",
    "\n",
    "# iterate the loop till num is not equal to zero\n",
    "while(num) :\n",
    "    rem = num % 10\n",
    "    reverse_num = reverse_num* 10 + rem\n",
    "    num //= 10\n",
    "    \n",
    "print('Reverse number is: ', reverse_num)"
   ]
  },
  {
   "cell_type": "markdown",
   "metadata": {},
   "source": [
    "11. Python program to count digits in a numbers."
   ]
  },
  {
   "cell_type": "code",
   "execution_count": 31,
   "metadata": {},
   "outputs": [
    {
     "name": "stdout",
     "output_type": "stream",
     "text": [
      "Digit in a number :  10\n"
     ]
    }
   ],
   "source": [
    "num = 1234567890\n",
    "count = 0\n",
    "\n",
    "# iterate the loop till num is not equal to zero\n",
    "while(num) :\n",
    "    count +=1\n",
    "    num //= 10    \n",
    "\n",
    "print('Digit in a number : ', count)"
   ]
  },
  {
   "cell_type": "markdown",
   "metadata": {},
   "source": [
    "12. Python program to check number is palindrome or not."
   ]
  },
  {
   "cell_type": "code",
   "execution_count": 55,
   "metadata": {},
   "outputs": [
    {
     "name": "stdout",
     "output_type": "stream",
     "text": [
      "Palindrome\n"
     ]
    }
   ],
   "source": [
    "reverse = 0\n",
    "num = 12321\n",
    "number = num\n",
    "\n",
    "#reversing the given number\n",
    "while(num) :\n",
    "    rem = num % 10\n",
    "    reverse = reverse * 10 + rem\n",
    "    num //= 10\n",
    "\n",
    "# comparing number\n",
    "if(number == reverse):\n",
    "    print(\"Palindrome\")\n",
    "else:\n",
    "    print(\"Not a Palindrome\")"
   ]
  },
  {
   "cell_type": "markdown",
   "metadata": {},
   "source": [
    "13. Write a Python program to calculate the number of letters and digits in a sentence."
   ]
  },
  {
   "cell_type": "code",
   "execution_count": 32,
   "metadata": {},
   "outputs": [
    {
     "name": "stdout",
     "output_type": "stream",
     "text": [
      "Letters 28\n",
      "Digits 3\n"
     ]
    }
   ],
   "source": [
    "sentence = \"The distance from Pune to Goa is 359KM.\"\n",
    " \n",
    "letters_digits = {\"Letters\":0, \"Digits\":0}\n",
    " \n",
    "for x in sentence:\n",
    "    if x.isalpha():\n",
    "        letters_digits[\"Letters\"]+=1\n",
    "    elif x.isdigit():\n",
    "        letters_digits[\"Digits\"]+=1\n",
    "    else:\n",
    "        pass\n",
    " \n",
    "print(\"Letters\", letters_digits[\"Letters\"])\n",
    "print(\"Digits\", letters_digits[\"Digits\"])"
   ]
  },
  {
   "cell_type": "markdown",
   "metadata": {},
   "source": [
    "14. Python program to print all prime numbers from 1 to N. eg(2,5,7 ...)"
   ]
  },
  {
   "cell_type": "code",
   "execution_count": 59,
   "metadata": {},
   "outputs": [
    {
     "name": "stdout",
     "output_type": "stream",
     "text": [
      "Prime numbers between 1 and 15 are:\n",
      "2\n",
      "3\n",
      "5\n",
      "7\n",
      "11\n",
      "13\n"
     ]
    }
   ],
   "source": [
    "lower = 1\n",
    "upper = 15\n",
    "print(\"Prime numbers between\", lower, \"and\", upper, \"are:\")\n",
    "\n",
    "for num in range(lower, upper + 1):\n",
    "   # all prime numbers are greater than 1\n",
    "    if num > 1:\n",
    "        for i in range(2, num):\n",
    "            if (num % i) == 0:\n",
    "                break\n",
    "        else:\n",
    "            print(num)"
   ]
  },
  {
   "cell_type": "markdown",
   "metadata": {},
   "source": [
    "15. Python program to print EVEN numbers from 1 to N using while loop."
   ]
  },
  {
   "cell_type": "code",
   "execution_count": 1,
   "metadata": {},
   "outputs": [
    {
     "name": "stdout",
     "output_type": "stream",
     "text": [
      "Prime numbers between 1 and 15 are:\n",
      "2\n",
      "4\n",
      "6\n",
      "8\n",
      "10\n",
      "12\n",
      "14\n"
     ]
    }
   ],
   "source": [
    "lower = 1\n",
    "upper = 15\n",
    "print(\"Prime numbers between\", lower, \"and\", upper, \"are:\")\n",
    "\n",
    "for num in range(lower,upper+1):\n",
    "    if num % 2 == 0:\n",
    "        print(num)"
   ]
  },
  {
   "cell_type": "markdown",
   "metadata": {},
   "source": [
    "16. Python program to check leap years or not."
   ]
  },
  {
   "cell_type": "code",
   "execution_count": 33,
   "metadata": {},
   "outputs": [
    {
     "name": "stdout",
     "output_type": "stream",
     "text": [
      "2000  is a leap year\n",
      "2004  is a leap year\n",
      "2008  is a leap year\n"
     ]
    }
   ],
   "source": [
    "# Python program to check leap year or not\n",
    "Startyear = 2000\n",
    "Endyear= 2010\n",
    "for i in range(Startyear,Endyear+1):\n",
    "    if (i % 4) == 0:\n",
    "        if (i % 100) == 0:\n",
    "            if (i % 400) == 0:\n",
    "                print(i,\" is a leap year\")\n",
    "            else:\n",
    "                pass\n",
    "        else:\n",
    "            print(i, \" is a leap year\")\n",
    "    else:\n",
    "        pass\n"
   ]
  },
  {
   "cell_type": "markdown",
   "metadata": {},
   "source": [
    "17. Python program to check number is perfect square or not."
   ]
  },
  {
   "cell_type": "code",
   "execution_count": 14,
   "metadata": {},
   "outputs": [
    {
     "name": "stdout",
     "output_type": "stream",
     "text": [
      "perfect Square: 6 * 6 = 36\n"
     ]
    }
   ],
   "source": [
    "import math\n",
    "\n",
    "num = 36\n",
    "\n",
    "i = int(math.sqrt(num)) #sqrt function returns float so typecasting to int\n",
    "\n",
    "if(num == i*i):\n",
    "    print(\"perfect Square: %d * %d = %d\"%(i,i,num))\n",
    "else:\n",
    "    print(\"Not Perfect Square\")"
   ]
  },
  {
   "cell_type": "markdown",
   "metadata": {},
   "source": [
    "18. Python program to find factorial of a number."
   ]
  },
  {
   "cell_type": "code",
   "execution_count": 8,
   "metadata": {},
   "outputs": [
    {
     "name": "stdout",
     "output_type": "stream",
     "text": [
      "The factorial of 4 is 24\n"
     ]
    }
   ],
   "source": [
    "num = 4\n",
    "factorial = 1  \n",
    "if num < 0:  \n",
    "    print(\"Sorry, factorial does not exist for negative numbers\")  \n",
    "elif num == 0:  \n",
    "    print(\"The factorial of 0 is 1\")  \n",
    "else:  \n",
    "    for i in range(1,num + 1):  \n",
    "        factorial = factorial*i  \n",
    "    print(\"The factorial of\",num,\"is\",factorial)"
   ]
  },
  {
   "cell_type": "markdown",
   "metadata": {},
   "source": [
    "19. Python program to find SUM and AVERAGE of two integer Numbers using User Define Functions."
   ]
  },
  {
   "cell_type": "code",
   "execution_count": 11,
   "metadata": {},
   "outputs": [
    {
     "name": "stdout",
     "output_type": "stream",
     "text": [
      "Sum of two numbers :  8\n",
      "Average :  4.0\n"
     ]
    }
   ],
   "source": [
    "#Addition\n",
    "def add(num1,num2):\n",
    "    result=num1+num2\n",
    "    print(\"Sum of two numbers : \",result)\n",
    "\n",
    "#Average\n",
    "def ave(num1,num2):\n",
    "    result=num1+num2\n",
    "    avg=result/2\n",
    "    print(\"Average : \",avg)\n",
    "\n",
    "num1=3\n",
    "num2=5\n",
    "add(num1,num2)\n",
    "ave(num1,num2)\n"
   ]
  },
  {
   "cell_type": "markdown",
   "metadata": {},
   "source": [
    "20. Python program to swap two strings using user define function."
   ]
  },
  {
   "cell_type": "code",
   "execution_count": 26,
   "metadata": {},
   "outputs": [
    {
     "name": "stdout",
     "output_type": "stream",
     "text": [
      "Before swap num1 = 5 num2 = 10\n",
      "After swap num1 = 10 num2 = 5\n"
     ]
    }
   ],
   "source": [
    "num1 = 5\n",
    "num2 = 10\n",
    "print(\"Before swap num1 =\",num1,\"num2 =\",num2)\n",
    "def swap(num1,num2):\n",
    "    num1, num2 = num2, num1\n",
    "    print(\"After swap num1 =\",num1,\"num2 =\",num2)\n",
    "\n",
    "swap(num1,num2)"
   ]
  }
 ],
 "metadata": {
  "kernelspec": {
   "display_name": "Python 3",
   "language": "python",
   "name": "python3"
  },
  "language_info": {
   "codemirror_mode": {
    "name": "ipython",
    "version": 3
   },
   "file_extension": ".py",
   "mimetype": "text/x-python",
   "name": "python",
   "nbconvert_exporter": "python",
   "pygments_lexer": "ipython3",
   "version": "3.7.4"
  }
 },
 "nbformat": 4,
 "nbformat_minor": 4
}
